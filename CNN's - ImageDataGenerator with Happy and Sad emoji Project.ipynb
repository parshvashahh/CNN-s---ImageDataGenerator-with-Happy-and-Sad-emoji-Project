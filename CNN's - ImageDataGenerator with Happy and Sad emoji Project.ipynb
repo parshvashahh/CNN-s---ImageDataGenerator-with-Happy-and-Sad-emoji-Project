{
 "cells": [
  {
   "cell_type": "markdown",
   "id": "de96b59e",
   "metadata": {},
   "source": [
    "# CNN's - ImageDataGenerator with Happy and Sad emoji Project"
   ]
  },
  {
   "cell_type": "code",
   "execution_count": null,
   "id": "32f4a197",
   "metadata": {},
   "outputs": [],
   "source": [
    "import os\n",
    "import numpy as np\n",
    "import tensorflow as tf\n",
    "import matplotlib.pyplot as plt"
   ]
  },
  {
   "cell_type": "code",
   "execution_count": null,
   "id": "8bb55501",
   "metadata": {},
   "outputs": [],
   "source": [
    "#load and explore the data\n",
    "from tensorflow.keras.preprosessing.image import load_img\n",
    "base_dir = \"./data/\"\n",
    "happy_dir = os.path.join(base_dir, \"happy/\")\n",
    "sad_dir = os.path.join(base_dir, \"sad/\")\n",
    "\n",
    "#image to array\n",
    "from tensorflow.keras.preprocessing.image import img_to_array\n",
    "\n",
    "# Load the first example of a happy face\n",
    "sample_image  = load_img(f\"{os.path.join(happy_dir, os.listdir(happy_dir)[0])}\")\n",
    "\n",
    "# Convert the image into its numpy array representation\n",
    "sample_array = img_to_array(sample_image)\n",
    "\n",
    "#deffine callbacks\n",
    "class myCallback(tf.keras.callbacks.Callback):\n",
    "    def on_epooch_end(self, epoch, logs={}):\n",
    "        if logs.get('accuracy') > 0.999:\n",
    "            print(\"\\nReached 99.9% accuracy so stop training!\")\n",
    "            self.model.stop_training = True\n",
    "            "
   ]
  },
  {
   "cell_type": "code",
   "execution_count": null,
   "id": "751118ef",
   "metadata": {},
   "outputs": [],
   "source": [
    "from tensorflow.keras.preprocessing.image import ImageDataGenerator\n",
    "\n",
    "#pre processing the data\n",
    "def image_generator():\n",
    "    train_datagen = ImageDataGenerator(rescale=1/255)\n",
    "    \n",
    "    train_generator = train_datagen.flow_from_directory(directory= './data/',\n",
    "                                                        target_size= (150, 150),\n",
    "                                                         batch_size= 128,\n",
    "                                                         class_mode= 'binary')\n",
    "\n",
    "    return train_genetator"
   ]
  },
  {
   "cell_type": "code",
   "execution_count": null,
   "id": "5fb39ec1",
   "metadata": {},
   "outputs": [],
   "source": [
    "#save your model\n",
    "parshva = image_generator()"
   ]
  },
  {
   "cell_type": "code",
   "execution_count": null,
   "id": "d077bf4e",
   "metadata": {},
   "outputs": [],
   "source": [
    "#train happy and sad model\n",
    "def train_happy_sad_model(train_generator):\n",
    "    callbacks = myCallback()\n",
    "    \n",
    "    model = tf.keras.models.Sequential([\n",
    "        tf.keras.layers.Conv2D(16, (3, 3), activation='relu', input_shape=(150, 150, 3)),\n",
    "        tf.keras.layers.MaxPooling2D(2,2),\n",
    "        tf.keras.layers.Conv2D(32, (3, 3), activation='relu'),\n",
    "        tf.keras.layers.MaxPooling2D(2,2),\n",
    "        tf.keras.layers.Conv2D(64, (3, 3), activation='relu'),\n",
    "        tf.keras.layers.MaxPooling2D(2,2),\n",
    "        tf.keras.layers.Flatten(),\n",
    "        tf.keras.layers.Dense(512, activation='relu'),\n",
    "        tf.keras.layers.Dense(1, activation='sigmoid')       \n",
    "    ])\n",
    "    \n",
    "    \n",
    "    from tensorflow.keras.optimizers import RMSprop\n",
    "    model.compile(loss='binary_crossentrophy',\n",
    "                  optimizer=RMSprop(learning_rate=0.0001),\n",
    "                  metrics= ['accuracy'])\n",
    "    \n",
    "    history= model.fit(x=train_generator,\n",
    "                      epochs=15,\n",
    "                      callbacks=[callbacks])\n",
    "    \n",
    "    hist = train_happy_sad_model(parshva)"
   ]
  }
 ],
 "metadata": {
  "kernelspec": {
   "display_name": "Python 3 (ipykernel)",
   "language": "python",
   "name": "python3"
  },
  "language_info": {
   "codemirror_mode": {
    "name": "ipython",
    "version": 3
   },
   "file_extension": ".py",
   "mimetype": "text/x-python",
   "name": "python",
   "nbconvert_exporter": "python",
   "pygments_lexer": "ipython3",
   "version": "3.10.10"
  }
 },
 "nbformat": 4,
 "nbformat_minor": 5
}
